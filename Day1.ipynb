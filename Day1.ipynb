{
  "nbformat": 4,
  "nbformat_minor": 0,
  "metadata": {
    "colab": {
      "provenance": [],
      "authorship_tag": "ABX9TyNrf20ICwikekyZtjeloTAZ",
      "include_colab_link": true
    },
    "kernelspec": {
      "name": "python3",
      "display_name": "Python 3"
    },
    "language_info": {
      "name": "python"
    }
  },
  "cells": [
    {
      "cell_type": "markdown",
      "metadata": {
        "id": "view-in-github",
        "colab_type": "text"
      },
      "source": [
        "<a href=\"https://colab.research.google.com/github/Pratikd80/PythonBootcampTesting/blob/main/Day1.ipynb\" target=\"_parent\"><img src=\"https://colab.research.google.com/assets/colab-badge.svg\" alt=\"Open In Colab\"/></a>"
      ]
    },
    {
      "cell_type": "code",
      "execution_count": 1,
      "metadata": {
        "colab": {
          "base_uri": "https://localhost:8080/"
        },
        "id": "7G_L_2AYOmly",
        "outputId": "4198f20d-9125-49fd-8033-4774f8ba86c7"
      },
      "outputs": [
        {
          "output_type": "stream",
          "name": "stdout",
          "text": [
            "[11, 45, 1, 2, 4, 6, 1, 1]\n",
            "[11, 45, 1, 2, 4, 6, 1, 1]\n"
          ]
        }
      ],
      "source": [
        "#q2\n",
        "l = [11, 45, 1, 2, 4, 6, 1, 1]\n",
        "print(l)\n",
        "# l.append(7)\n",
        "# l.sort(reverse=True)\n",
        "# l.reverse()\n",
        "# print(l.index(1))\n",
        "# print(l.count(1))\n",
        "# m = l.copy()\n",
        "# m[0] = 0\n",
        "# l.insert(1, 899)\n",
        "m = [900, 1000, 1100]\n",
        "k = l + m\n",
        "# print(k)\n",
        "# l.extend(m)\n",
        "print(l)\n",
        "#hi"
      ]
    },
    {
      "cell_type": "code",
      "source": [],
      "metadata": {
        "id": "L-13KC5DO6yq"
      },
      "execution_count": null,
      "outputs": []
    }
  ]
}