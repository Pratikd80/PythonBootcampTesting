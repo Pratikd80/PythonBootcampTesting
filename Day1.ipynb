{
  "nbformat": 4,
  "nbformat_minor": 0,
  "metadata": {
    "colab": {
      "provenance": [],
      "authorship_tag": "ABX9TyOCZ64nuYq2infypdNk8+O4",
      "include_colab_link": true
    },
    "kernelspec": {
      "name": "python3",
      "display_name": "Python 3"
    },
    "language_info": {
      "name": "python"
    }
  },
  "cells": [
    {
      "cell_type": "markdown",
      "metadata": {
        "id": "view-in-github",
        "colab_type": "text"
      },
      "source": [
        "<a href=\"https://colab.research.google.com/github/Pratikd80/PythonBootcampTesting/blob/main/Day1.ipynb\" target=\"_parent\"><img src=\"https://colab.research.google.com/assets/colab-badge.svg\" alt=\"Open In Colab\"/></a>"
      ]
    },
    {
      "cell_type": "code",
      "execution_count": 4,
      "metadata": {
        "colab": {
          "base_uri": "https://localhost:8080/"
        },
        "id": "7G_L_2AYOmly",
        "outputId": "3d0b30d4-fe0a-448f-ba6d-c9b8c9a6e935"
      },
      "outputs": [
        {
          "output_type": "stream",
          "name": "stdout",
          "text": [
            "[11, 45, 1, 2, 4, 6, 1, 1]\n",
            "[11, 45, 1, 2, 4, 6, 1, 1]\n"
          ]
        }
      ],
      "source": [
        "\n",
        "\n",
        "\n",
        "\n",
        "#q2\n",
        "l = [11, 45, 1, 2, 4, 6, 1, 1]\n",
        "print(l)\n",
        "# l.append(7)\n",
        "# l.sort(reverse=True)\n",
        "# l.reverse()\n",
        "# print(l.index(1))\n",
        "# print(l.count(1))\n",
        "# m = l.copy()\n",
        "# m[0] = 0\n",
        "# l.insert(1, 899)\n",
        "m = [900, 1000, 1100]\n",
        "k = l + m\n",
        "# print(k)\n",
        "# l.extend(m)\n",
        "print(l)\n",
        "#hi"
      ]
    },
    {
      "cell_type": "code",
      "source": [
        "#q1\n",
        "fruit = \"Mango\"\n",
        "mangoLen = len(fruit)\n",
        "print(mangoLen)\n",
        "# print(fruit[0:4])\n",
        "# print(fruit[1:4])\n",
        "# print(fruit[:5])\n",
        "# print(fruit[0:-3])\n",
        "# print(fruit[:len(fruit)-3])\n",
        "print(fruit[-1:len(fruit) - 3])\n",
        "print(fruit[-3:-1])\n",
        "a = \"!!!Prateek!! !!!!!!!!! Prateek\"\n",
        "print(len(a))\n",
        "print(a)\n",
        "print(a.upper())\n",
        "print(a.lower())\n",
        "print(a.rstrip(\"!\"))\n",
        "print(a.replace(\"Prateek\", \"John\"))\n",
        "print(a.split(\" \"))\n",
        "blogHeading = \"introduction tO jS\"\n",
        "print(blogHeading.capitalize())\n",
        "\n",
        "str1 = \"Welcome to the Console!!!\"\n",
        "print(len(str1))\n",
        "print(len(str1.center(50)))\n",
        "print(a.count(\"Harry\"))\n",
        "\n",
        "str1 = \"Welcome to the Console !!!\"\n",
        "print(str1.endswith(\"!!!\"))\n",
        "\n",
        "str1 = \"Welcome to the Console !!!\"\n",
        "print(str1.endswith(\"to\", 4, 10))\n",
        "\n",
        "str1 = \"He's name is Dan. He is an honest man.\"\n",
        "print(str1.find(\"ishh\"))\n",
        "# print(str1.index(\"ishh\"))\n",
        "\n",
        "str1 = \"WelcomeToTheConsole\"\n",
        "print(str1.isalnum())\n",
        "str1 = \"Welcome\"\n",
        "print(str1.isalpha())\n",
        "\n",
        "str1 = \"hello world\"\n",
        "print(str1.islower())\n",
        "\n",
        "str1 = \"We wish you a Merry Christmas\\n\"\n",
        "print(str1.isprintable())\n",
        "str1 = \"         \"       #using Spacebar\n",
        "print(str1.isspace())\n",
        "str2 = \"  \"       #using Tab\n",
        "print(str2.isspace())\n",
        "\n",
        "str1 = \"World Health Organization\"\n",
        "print(str1.istitle())\n",
        "\n",
        "str2 = \"To kill a Mocking bird\"\n",
        "print(str2.istitle())\n",
        "\n",
        "str1 = \"Python is a Interpreted Language\"\n",
        "print(str1.startswith(\"Python\"))\n",
        "\n",
        "str1 = \"Python is a Interpreted Language\"\n",
        "print(str1.swapcase())\n",
        "\n",
        "str1 = \"His name is Dan. Dan is an honest man.\"\n",
        "print(str1.title())"
      ],
      "metadata": {
        "colab": {
          "base_uri": "https://localhost:8080/"
        },
        "id": "8goNUVFVWZsU",
        "outputId": "1abf1b14-dad7-4cba-add7-ffe9cc192a9d"
      },
      "execution_count": 6,
      "outputs": [
        {
          "output_type": "stream",
          "name": "stdout",
          "text": [
            "5\n",
            "\n",
            "ng\n",
            "30\n",
            "!!!Prateek!! !!!!!!!!! Prateek\n",
            "!!!PRATEEK!! !!!!!!!!! PRATEEK\n",
            "!!!prateek!! !!!!!!!!! prateek\n",
            "!!!Prateek!! !!!!!!!!! Prateek\n",
            "!!!John!! !!!!!!!!! John\n",
            "['!!!Prateek!!', '!!!!!!!!!', 'Prateek']\n",
            "Introduction to js\n",
            "25\n",
            "50\n",
            "0\n",
            "True\n",
            "True\n",
            "-1\n",
            "True\n",
            "True\n",
            "True\n",
            "False\n",
            "True\n",
            "True\n",
            "True\n",
            "False\n",
            "True\n",
            "pYTHON IS A iNTERPRETED lANGUAGE\n",
            "His Name Is Dan. Dan Is An Honest Man.\n"
          ]
        }
      ]
    },
    {
      "cell_type": "code",
      "source": [
        "countries = (\"Spain\", \"Italy\", \"India\", \"England\", \"Germany\")\n",
        "temp = list(countries)\n",
        "temp.append(\"Russia\")       #add item\n",
        "temp.pop(3)                 #remove item\n",
        "temp[2] = \"Finland\"         #change item\n",
        "countries = tuple(temp)\n",
        "print(countries)\n",
        "tuple1 = (0, 1, 2, 3, 2, 31, 1, 3, 2, 3)\n",
        "# res = tuple1.count(3)\n",
        "# res = tuple1.index(3)\n",
        "# res = tuple1.index(311)\n",
        "# res = tuple1.index(3, 4, 8)\n",
        "res = len(tuple1)\n",
        "print('Count of 3 in tuple1 is:', res)"
      ],
      "metadata": {
        "colab": {
          "base_uri": "https://localhost:8080/"
        },
        "id": "reTVSEv55wGO",
        "outputId": "306f359e-e3eb-4520-852a-4fa0ed89b431"
      },
      "execution_count": 8,
      "outputs": [
        {
          "output_type": "stream",
          "name": "stdout",
          "text": [
            "('Spain', 'Italy', 'Finland', 'Germany', 'Russia')\n",
            "Count of 3 in tuple1 is: 10\n"
          ]
        }
      ]
    },
    {
      "cell_type": "code",
      "source": [],
      "metadata": {
        "id": "lBZ96OVvBqi6"
      },
      "execution_count": null,
      "outputs": []
    },
    {
      "cell_type": "code",
      "source": [
        "cities = {\"Tokyo\", \"Madrid\", \"Berlin\", \"Delhi\"}\n",
        "cities2 = {\"Tokyo\", \"Seoul\", \"Kabul\", \"Madrid\"}\n",
        "cities3 = cities.union(cities2)\n",
        "print(cities3)\n",
        "\n",
        "#cities.update(cities2)\n",
        "print(cities)\n",
        "\n",
        "cities3 = cities.intersection(cities2)\n",
        "print(cities3)\n",
        "print(cities.difference(cities2))\n",
        "cities.symmetric_difference_update(cities2)\n",
        "print(cities)\n",
        "cities3 = cities.difference(cities2)\n",
        "print(cities3)"
      ],
      "metadata": {
        "colab": {
          "base_uri": "https://localhost:8080/"
        },
        "id": "5g8Ib18P8UL6",
        "outputId": "8ab393ad-1ff1-4fac-c7fc-a82a5759928b"
      },
      "execution_count": 9,
      "outputs": [
        {
          "output_type": "stream",
          "name": "stdout",
          "text": [
            "{'Kabul', 'Seoul', 'Delhi', 'Berlin', 'Tokyo', 'Madrid'}\n",
            "{'Madrid', 'Tokyo', 'Berlin', 'Delhi'}\n",
            "{'Tokyo', 'Madrid'}\n",
            "{'Berlin', 'Delhi'}\n",
            "{'Kabul', 'Seoul', 'Delhi', 'Berlin'}\n",
            "{'Berlin', 'Delhi'}\n"
          ]
        }
      ]
    },
    {
      "cell_type": "code",
      "source": [
        "info = {'name':'Karan', 'age':19, 'eligible':True}\n",
        "# print(info)\n",
        "# print(info.keys())\n",
        "# print(info.values())\n",
        "\n",
        "# for key in info.keys():\n",
        "#   print(f\"The value corresponding to the key {key} is {info[key]}\")\n",
        "\n",
        "print(info.items())\n",
        "for key, value in info.items():\n",
        "  print(f\"The value corresponding to the key {key} is {value}\")"
      ],
      "metadata": {
        "colab": {
          "base_uri": "https://localhost:8080/"
        },
        "id": "L-13KC5DO6yq",
        "outputId": "2935d6d8-0dc8-4a9e-890d-723e444832ac"
      },
      "execution_count": 11,
      "outputs": [
        {
          "output_type": "stream",
          "name": "stdout",
          "text": [
            "dict_items([('name', 'Karan'), ('age', 19), ('eligible', True)])\n",
            "The value corresponding to the key name is Karan\n",
            "The value corresponding to the key age is 19\n",
            "The value corresponding to the key eligible is True\n"
          ]
        }
      ]
    },
    {
      "cell_type": "code",
      "source": [
        "ep1 = {122: 45, 123: 89, 567: 69, 670: 69}\n",
        "ep2 = {222: 67, 566: 90}\n",
        "\n",
        "# ep1.update(ep2)\n",
        "# ep1.clear()\n",
        "# ep1.pop(122)\n",
        "ep1.popitem()\n",
        "del ep1[122]\n",
        "print(ep1)"
      ],
      "metadata": {
        "colab": {
          "base_uri": "https://localhost:8080/"
        },
        "id": "UfUrxEcACh7W",
        "outputId": "6ddc5d91-612e-4815-ad77-11db8e3a61cf"
      },
      "execution_count": 10,
      "outputs": [
        {
          "output_type": "stream",
          "name": "stdout",
          "text": [
            "{123: 89, 567: 69}\n"
          ]
        }
      ]
    }
  ]
}